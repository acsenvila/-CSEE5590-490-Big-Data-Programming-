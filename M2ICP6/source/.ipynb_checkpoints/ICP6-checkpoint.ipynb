{
 "cells": [
  {
   "cell_type": "markdown",
   "metadata": {},
   "source": [
    "# GraphX and GraphFrames"
   ]
  },
  {
   "cell_type": "code",
   "execution_count": 2,
   "metadata": {},
   "outputs": [],
   "source": [
    "#importing the libraries\n",
    "from pyspark import SparkContext, SQLContext\n",
    "from graphframes import *\n",
    "sc = SparkContext.getOrCreate()\n",
    "sc.addPyFile('C:\\spark-2.4.4-bin-hadoop2.7\\jars\\graphframes-0.7.0-spark2.4-s_2.11.jar')\n",
    "sqlcontext=SQLContext(sc)"
   ]
  },
  {
   "cell_type": "markdown",
   "metadata": {},
   "source": [
    "##  1.\tImport the dataset as a csv file and create data frames directly on import than create graph out of the data frame created. "
   ]
  },
  {
   "cell_type": "code",
   "execution_count": 3,
   "metadata": {},
   "outputs": [],
   "source": [
    "StationDataset = sqlcontext.read.format(\"csv\").option(\"header\", \"true\").csv('D:/Datasets/201508_station_data.csv').withColumnRenamed(\"name\",\"id\").select(\"id\").distinct()\n",
    "TripDataset = sqlcontext.read.format(\"csv\").option(\"header\", \"true\").csv('D:/Datasets/201508_trip_data.csv').withColumnRenamed(\"Start Station\",\"src\").withColumnRenamed(\"End Station\",\"dst\").select(\"src\",\"dst\").groupBy(\"src\",\"dst\").count()"
   ]
  },
  {
   "cell_type": "markdown",
   "metadata": {},
   "source": [
    "## Creating the graph"
   ]
  },
  {
   "cell_type": "code",
   "execution_count": 5,
   "metadata": {},
   "outputs": [],
   "source": [
    "Data = GraphFrame(StationDataset, TripDataset)"
   ]
  },
  {
   "cell_type": "code",
   "execution_count": 11,
   "metadata": {},
   "outputs": [
    {
     "name": "stdout",
     "output_type": "stream",
     "text": [
      "GraphFrame(v:[id: string], e:[src: string, dst: string ... 1 more field])\n"
     ]
    }
   ],
   "source": [
    "print(Data)"
   ]
  },
  {
   "cell_type": "markdown",
   "metadata": {},
   "source": [
    "## 2. Triangle Count"
   ]
  },
  {
   "cell_type": "code",
   "execution_count": 7,
   "metadata": {
    "scrolled": false
   },
   "outputs": [
    {
     "name": "stdout",
     "output_type": "stream",
     "text": [
      "+-----+--------------------+\n",
      "|count|                  id|\n",
      "+-----+--------------------+\n",
      "|  496|       2nd at Folsom|\n",
      "|   23|California Ave Ca...|\n",
      "|    0|Washington at Kea...|\n",
      "|  496|Powell at Post (U...|\n",
      "|  496| Golden Gate at Polk|\n",
      "|  496|Yerba Buena Cente...|\n",
      "|  496|   Market at Sansome|\n",
      "|   90|         MLK Library|\n",
      "|  496|     Spear at Folsom|\n",
      "|   77|           Japantown|\n",
      "|  496|Commercial at Mon...|\n",
      "|   81|Paseo de San Antonio|\n",
      "|   23|Rengstorff Avenue...|\n",
      "|   61| San Salvador at 1st|\n",
      "|  496|     Townsend at 7th|\n",
      "|  496|Civic Center BART...|\n",
      "|   41|         Ryland Park|\n",
      "|   90|San Jose Diridon ...|\n",
      "|   63|San Jose Civic Ce...|\n",
      "|    0|     Post at Kearney|\n",
      "+-----+--------------------+\n",
      "only showing top 20 rows\n",
      "\n"
     ]
    }
   ],
   "source": [
    "Data.triangleCount().show()"
   ]
  },
  {
   "cell_type": "markdown",
   "metadata": {},
   "source": [
    "## 3.\tFind Shortest Paths w.r.t. Landmarks "
   ]
  },
  {
   "cell_type": "code",
   "execution_count": 10,
   "metadata": {
    "scrolled": false
   },
   "outputs": [
    {
     "name": "stdout",
     "output_type": "stream",
     "text": [
      "+--------------------+--------------------+\n",
      "|                  id|           distances|\n",
      "+--------------------+--------------------+\n",
      "|       2nd at Folsom|                  []|\n",
      "|      Market at 10th|                  []|\n",
      "|California Ave Ca...|                  []|\n",
      "|Washington at Kea...|                  []|\n",
      "|Redwood City Publ...|                  []|\n",
      "|Powell at Post (U...|                  []|\n",
      "| Golden Gate at Polk|                  []|\n",
      "|    Adobe on Almaden|[MLK Library -> 1...|\n",
      "|Broadway St at Ba...|                  []|\n",
      "|Yerba Buena Cente...|                  []|\n",
      "|     Beale at Market|                  []|\n",
      "|   Market at Sansome|                  []|\n",
      "|         MLK Library|[MLK Library -> 0...|\n",
      "|     Spear at Folsom|                  []|\n",
      "|       5th at Howard|                  []|\n",
      "|           Japantown|[Japantown -> 0, ...|\n",
      "|Commercial at Mon...|                  []|\n",
      "|    San Pedro Square|[Japantown -> 1, ...|\n",
      "|Paseo de San Antonio|[Japantown -> 1, ...|\n",
      "|Redwood City Medi...|                  []|\n",
      "+--------------------+--------------------+\n",
      "only showing top 20 rows\n",
      "\n"
     ]
    }
   ],
   "source": [
    "Data.shortestPaths(landmarks=[\"Japantown\", \"MLK Library\"]).show()"
   ]
  },
  {
   "cell_type": "markdown",
   "metadata": {},
   "source": [
    "## 4.\tApply Page Rank algorithm on the dataset."
   ]
  },
  {
   "cell_type": "code",
   "execution_count": 7,
   "metadata": {},
   "outputs": [],
   "source": [
    "results = Data.pageRank(resetProbability=0.15, tol=0.01)"
   ]
  },
  {
   "cell_type": "code",
   "execution_count": 8,
   "metadata": {},
   "outputs": [
    {
     "name": "stdout",
     "output_type": "stream",
     "text": [
      "+--------------------+-------------------+\n",
      "|                  id|           pagerank|\n",
      "+--------------------+-------------------+\n",
      "|       2nd at Folsom| 0.9824888917828896|\n",
      "|      Market at 10th| 1.0381304111380782|\n",
      "|California Ave Ca...|  1.117214156049386|\n",
      "|Washington at Kea...|0.16391984022625664|\n",
      "|Redwood City Publ...| 0.6728086774388868|\n",
      "|Powell at Post (U...| 1.0381304111380778|\n",
      "| Golden Gate at Polk|  1.038130411138078|\n",
      "|    Adobe on Almaden| 0.9037422230312736|\n",
      "|Broadway St at Ba...| 1.0115490961700715|\n",
      "|Yerba Buena Cente...| 1.0381304111380782|\n",
      "|     Beale at Market| 1.0381304111380782|\n",
      "|   Market at Sansome| 1.0381304111380782|\n",
      "|         MLK Library| 1.0850875307932697|\n",
      "|     Spear at Folsom| 1.0381304111380782|\n",
      "|       5th at Howard| 1.0381304111380782|\n",
      "|           Japantown| 1.1277529076126747|\n",
      "|Commercial at Mon...| 1.0381304111380782|\n",
      "|    San Pedro Square| 1.2625573035092683|\n",
      "|Paseo de San Antonio| 1.1971448900978934|\n",
      "|Redwood City Medi...| 0.4022808574359379|\n",
      "+--------------------+-------------------+\n",
      "only showing top 20 rows\n",
      "\n"
     ]
    }
   ],
   "source": [
    "results.vertices.select(\"id\", \"pagerank\").show()"
   ]
  },
  {
   "cell_type": "code",
   "execution_count": 9,
   "metadata": {},
   "outputs": [
    {
     "name": "stdout",
     "output_type": "stream",
     "text": [
      "+--------------------+--------------------+--------------------+\n",
      "|                 src|                 dst|              weight|\n",
      "+--------------------+--------------------+--------------------+\n",
      "|       2nd at Folsom|San Francisco Cal...|0.030303030303030304|\n",
      "|   Market at Sansome|       Market at 4th|0.030303030303030304|\n",
      "|     Spear at Folsom|    Davis at Jackson|0.030303030303030304|\n",
      "|Commercial at Mon...|Embarcadero at Br...|0.030303030303030304|\n",
      "|     Townsend at 7th|San Francisco Cal...|0.030303030303030304|\n",
      "|          Mezes Park|          Mezes Park|                0.25|\n",
      "|       5th at Howard|Grant Avenue at C...|0.030303030303030304|\n",
      "|San Francisco Cal...|Embarcadero at Sa...|0.030303030303030304|\n",
      "|     Townsend at 7th|       Howard at 2nd|0.030303030303030304|\n",
      "|SJSU - San Salvad...|SJSU - San Salvad...| 0.07692307692307693|\n",
      "|Embarcadero at Sa...|Temporary Transba...|0.030303030303030304|\n",
      "|San Francisco Cal...|  Powell Street BART|0.030303030303030304|\n",
      "|   2nd at South Park|   Market at Sansome|0.030303030303030304|\n",
      "|San Francisco Cal...|  Powell Street BART|0.030303030303030304|\n",
      "|       St James Park|San Jose Diridon ...| 0.08333333333333333|\n",
      "|         MLK Library|San Jose Civic Ce...| 0.07142857142857142|\n",
      "|San Antonio Caltr...|Mountain View Cit...|                 0.1|\n",
      "|Mountain View Cal...|San Antonio Caltr...|  0.1111111111111111|\n",
      "|Harry Bridges Pla...|     2nd at Townsend|0.030303030303030304|\n",
      "|Civic Center BART...|     Clay at Battery|0.030303030303030304|\n",
      "+--------------------+--------------------+--------------------+\n",
      "only showing top 20 rows\n",
      "\n"
     ]
    }
   ],
   "source": [
    "results.edges.select(\"src\", \"dst\", \"weight\").show()"
   ]
  },
  {
   "cell_type": "markdown",
   "metadata": {},
   "source": [
    "## 5.\tSave graphs generated to a file."
   ]
  },
  {
   "cell_type": "code",
   "execution_count": 1,
   "metadata": {},
   "outputs": [
    {
     "ename": "NameError",
     "evalue": "name 'Data' is not defined",
     "output_type": "error",
     "traceback": [
      "\u001b[1;31m---------------------------------------------------------------------------\u001b[0m",
      "\u001b[1;31mNameError\u001b[0m                                 Traceback (most recent call last)",
      "\u001b[1;32m<ipython-input-1-0ada1bd37c37>\u001b[0m in \u001b[0;36m<module>\u001b[1;34m\u001b[0m\n\u001b[1;32m----> 1\u001b[1;33m \u001b[0mData\u001b[0m\u001b[1;33m.\u001b[0m\u001b[0mvertices\u001b[0m\u001b[1;33m.\u001b[0m\u001b[0mwrite\u001b[0m\u001b[1;33m.\u001b[0m\u001b[0mparquet\u001b[0m\u001b[1;33m(\u001b[0m\u001b[1;34m'vertices'\u001b[0m\u001b[1;33m)\u001b[0m\u001b[1;33m\u001b[0m\u001b[0m\n\u001b[0m\u001b[0;32m      2\u001b[0m \u001b[0mData\u001b[0m\u001b[1;33m.\u001b[0m\u001b[0medges\u001b[0m\u001b[1;33m.\u001b[0m\u001b[0mwrite\u001b[0m\u001b[1;33m.\u001b[0m\u001b[0mparquet\u001b[0m\u001b[1;33m(\u001b[0m\u001b[1;34m'edges'\u001b[0m\u001b[1;33m)\u001b[0m\u001b[1;33m\u001b[0m\u001b[0m\n",
      "\u001b[1;31mNameError\u001b[0m: name 'Data' is not defined"
     ]
    }
   ],
   "source": [
    "Data.vertices.write.parquet('vertices')\n",
    "Data.edges.write.parquet('edges')"
   ]
  },
  {
   "cell_type": "markdown",
   "metadata": {},
   "source": [
    "# Bonus:\n",
    "## 1.\tApply Label Propagation Algorithm"
   ]
  },
  {
   "cell_type": "code",
   "execution_count": 5,
   "metadata": {},
   "outputs": [
    {
     "name": "stdout",
     "output_type": "stream",
     "text": [
      "+--------------------+-------------+\n",
      "|                  id|        label|\n",
      "+--------------------+-------------+\n",
      "|       2nd at Folsom|            0|\n",
      "|      Market at 10th|            0|\n",
      "|California Ave Ca...|1649267441664|\n",
      "|Washington at Kea...|  17179869184|\n",
      "|Redwood City Publ...| 730144440320|\n",
      "|Powell at Post (U...|            0|\n",
      "| Golden Gate at Polk|            0|\n",
      "|    Adobe on Almaden| 257698037761|\n",
      "|Broadway St at Ba...|            0|\n",
      "|Yerba Buena Cente...|            0|\n",
      "|     Beale at Market|            0|\n",
      "|   Market at Sansome|            0|\n",
      "|         MLK Library| 257698037761|\n",
      "|     Spear at Folsom|            0|\n",
      "|       5th at Howard|            0|\n",
      "|           Japantown| 257698037761|\n",
      "|Commercial at Mon...|            0|\n",
      "|    San Pedro Square| 257698037761|\n",
      "|Paseo de San Antonio| 257698037761|\n",
      "|Redwood City Medi...| 730144440320|\n",
      "+--------------------+-------------+\n",
      "only showing top 20 rows\n",
      "\n"
     ]
    }
   ],
   "source": [
    "result = Data.labelPropagation(maxIter=5)\n",
    "result.select(\"id\", \"label\").show()"
   ]
  },
  {
   "cell_type": "markdown",
   "metadata": {},
   "source": [
    "## 2.\tApply BFS algorithm"
   ]
  },
  {
   "cell_type": "code",
   "execution_count": 6,
   "metadata": {},
   "outputs": [
    {
     "name": "stdout",
     "output_type": "stream",
     "text": [
      "+-----------------+--------------------+--------------------+\n",
      "|             from|                  e0|                  to|\n",
      "+-----------------+--------------------+--------------------+\n",
      "|[Spear at Folsom]|[Spear at Folsom,...|[Golden Gate at P...|\n",
      "+-----------------+--------------------+--------------------+\n",
      "\n"
     ]
    }
   ],
   "source": [
    "paths = Data.bfs(\"id = 'Spear at Folsom'\", \"id = 'Golden Gate at Polk'\")\n",
    "paths.show()"
   ]
  }
 ],
 "metadata": {
  "kernelspec": {
   "display_name": "Python 3",
   "language": "python",
   "name": "python3"
  },
  "language_info": {
   "codemirror_mode": {
    "name": "ipython",
    "version": 3
   },
   "file_extension": ".py",
   "mimetype": "text/x-python",
   "name": "python",
   "nbconvert_exporter": "python",
   "pygments_lexer": "ipython3",
   "version": "3.6.5"
  }
 },
 "nbformat": 4,
 "nbformat_minor": 2
}
