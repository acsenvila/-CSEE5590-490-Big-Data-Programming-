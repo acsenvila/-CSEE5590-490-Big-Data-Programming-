 {
 "cells": [
  {
   "cell_type": "code",
   "execution_count": 1,
   "metadata": {},
   "outputs": [],
   "source": [
    "from pyspark.sql import SparkSession\n",
    "from pyspark.ml.feature import VectorAssembler\n",
    "import os"
   ]
  },
  {
   "cell_type": "code",
   "execution_count": 2,
   "metadata": {},
   "outputs": [],
   "source": [
    "os.environ[\"SPARK_HOME\"] = \"C:/spark-2.4.4-bin-hadoop2.7\"\n",
    "os.environ[\"HADOOP_HOME\"] = \"C:/winutils\""
   ]
  },
  {
   "cell_type": "code",
   "execution_count": 3,
   "metadata": {},
   "outputs": [],
   "source": [
    "# Creating spark session\n",
    "spark = SparkSession.builder.appName(\"ICP7\").getOrCreate()\n",
    "spark.sparkContext.setLogLevel(\"ERROR\")"
   ]
  },
  {
   "cell_type": "code",
   "execution_count": 4,
   "metadata": {},
   "outputs": [],
   "source": [
    "# Loading the dataset\n",
    "ICP = spark.read.load(\"D:/Datasets/Classification/adult.csv\", format=\"csv\", header=True, delimiter=\",\")"
   ]
  },
  {
   "cell_type": "code",
   "execution_count": 5,
   "metadata": {},
   "outputs": [
    {
     "data": {
      "text/html": [
       "<div>\n",
       "<style scoped>\n",
       "    .dataframe tbody tr th:only-of-type {\n",
       "        vertical-align: middle;\n",
       "    }\n",
       "\n",
       "    .dataframe tbody tr th {\n",
       "        vertical-align: top;\n",
       "    }\n",
       "\n",
       "    .dataframe thead th {\n",
       "        text-align: right;\n",
       "    }\n",
       "</style>\n",
       "<table border=\"1\" class=\"dataframe\">\n",
       "  <thead>\n",
       "    <tr style=\"text-align: right;\">\n",
       "      <th></th>\n",
       "      <th>0</th>\n",
       "      <th>1</th>\n",
       "      <th>2</th>\n",
       "      <th>3</th>\n",
       "      <th>4</th>\n",
       "    </tr>\n",
       "  </thead>\n",
       "  <tbody>\n",
       "    <tr>\n",
       "      <th>age</th>\n",
       "      <td>39</td>\n",
       "      <td>50</td>\n",
       "      <td>38</td>\n",
       "      <td>53</td>\n",
       "      <td>28</td>\n",
       "    </tr>\n",
       "    <tr>\n",
       "      <th>workclass</th>\n",
       "      <td>State-gov</td>\n",
       "      <td>Self-emp-not-inc</td>\n",
       "      <td>Private</td>\n",
       "      <td>Private</td>\n",
       "      <td>Private</td>\n",
       "    </tr>\n",
       "    <tr>\n",
       "      <th>fnlwgt</th>\n",
       "      <td>77516</td>\n",
       "      <td>83311</td>\n",
       "      <td>215646</td>\n",
       "      <td>234721</td>\n",
       "      <td>338409</td>\n",
       "    </tr>\n",
       "    <tr>\n",
       "      <th>education</th>\n",
       "      <td>Bachelors</td>\n",
       "      <td>Bachelors</td>\n",
       "      <td>HS-grad</td>\n",
       "      <td>11th</td>\n",
       "      <td>Bachelors</td>\n",
       "    </tr>\n",
       "    <tr>\n",
       "      <th>education-num</th>\n",
       "      <td>13</td>\n",
       "      <td>13</td>\n",
       "      <td>9</td>\n",
       "      <td>7</td>\n",
       "      <td>13</td>\n",
       "    </tr>\n",
       "    <tr>\n",
       "      <th>marital-status</th>\n",
       "      <td>Never-married</td>\n",
       "      <td>Married-civ-spouse</td>\n",
       "      <td>Divorced</td>\n",
       "      <td>Married-civ-spouse</td>\n",
       "      <td>Married-civ-spouse</td>\n",
       "    </tr>\n",
       "    <tr>\n",
       "      <th>occupation</th>\n",
       "      <td>Adm-clerical</td>\n",
       "      <td>Exec-managerial</td>\n",
       "      <td>Handlers-cleaners</td>\n",
       "      <td>Handlers-cleaners</td>\n",
       "      <td>Prof-specialty</td>\n",
       "    </tr>\n",
       "    <tr>\n",
       "      <th>relationship</th>\n",
       "      <td>Not-in-family</td>\n",
       "      <td>Husband</td>\n",
       "      <td>Not-in-family</td>\n",
       "      <td>Husband</td>\n",
       "      <td>Wife</td>\n",
       "    </tr>\n",
       "    <tr>\n",
       "      <th>race</th>\n",
       "      <td>White</td>\n",
       "      <td>White</td>\n",
       "      <td>White</td>\n",
       "      <td>Black</td>\n",
       "      <td>Black</td>\n",
       "    </tr>\n",
       "    <tr>\n",
       "      <th>sex</th>\n",
       "      <td>Male</td>\n",
       "      <td>Male</td>\n",
       "      <td>Male</td>\n",
       "      <td>Male</td>\n",
       "      <td>Female</td>\n",
       "    </tr>\n",
       "    <tr>\n",
       "      <th>capital-gain</th>\n",
       "      <td>2174</td>\n",
       "      <td>0</td>\n",
       "      <td>0</td>\n",
       "      <td>0</td>\n",
       "      <td>0</td>\n",
       "    </tr>\n",
       "    <tr>\n",
       "      <th>capital-loss</th>\n",
       "      <td>0</td>\n",
       "      <td>0</td>\n",
       "      <td>0</td>\n",
       "      <td>0</td>\n",
       "      <td>0</td>\n",
       "    </tr>\n",
       "    <tr>\n",
       "      <th>hours-per-week</th>\n",
       "      <td>40</td>\n",
       "      <td>13</td>\n",
       "      <td>40</td>\n",
       "      <td>40</td>\n",
       "      <td>40</td>\n",
       "    </tr>\n",
       "    <tr>\n",
       "      <th>native-country</th>\n",
       "      <td>United-States</td>\n",
       "      <td>United-States</td>\n",
       "      <td>United-States</td>\n",
       "      <td>United-States</td>\n",
       "      <td>Cuba</td>\n",
       "    </tr>\n",
       "    <tr>\n",
       "      <th>income</th>\n",
       "      <td>&lt;=50K</td>\n",
       "      <td>&lt;=50K</td>\n",
       "      <td>&lt;=50K</td>\n",
       "      <td>&lt;=50K</td>\n",
       "      <td>&lt;=50K</td>\n",
       "    </tr>\n",
       "  </tbody>\n",
       "</table>\n",
       "</div>"
      ],
      "text/plain": [
       "                             0                    1                   2  \\\n",
       "age                         39                   50                  38   \n",
       "workclass            State-gov     Self-emp-not-inc             Private   \n",
       "fnlwgt                   77516                83311              215646   \n",
       "education            Bachelors            Bachelors             HS-grad   \n",
       "education-num               13                   13                   9   \n",
       "marital-status   Never-married   Married-civ-spouse            Divorced   \n",
       "occupation        Adm-clerical      Exec-managerial   Handlers-cleaners   \n",
       "relationship     Not-in-family              Husband       Not-in-family   \n",
       "race                     White                White               White   \n",
       "sex                       Male                 Male                Male   \n",
       "capital-gain              2174                    0                   0   \n",
       "capital-loss                 0                    0                   0   \n",
       "hours-per-week              40                   13                  40   \n",
       "native-country   United-States        United-States       United-States   \n",
       "income                   <=50K                <=50K               <=50K   \n",
       "\n",
       "                                  3                    4  \n",
       "age                              53                   28  \n",
       "workclass                   Private              Private  \n",
       "fnlwgt                       234721               338409  \n",
       "education                      11th            Bachelors  \n",
       "education-num                     7                   13  \n",
       "marital-status   Married-civ-spouse   Married-civ-spouse  \n",
       "occupation        Handlers-cleaners       Prof-specialty  \n",
       "relationship                Husband                 Wife  \n",
       "race                          Black                Black  \n",
       "sex                            Male               Female  \n",
       "capital-gain                      0                    0  \n",
       "capital-loss                      0                    0  \n",
       "hours-per-week                   40                   40  \n",
       "native-country        United-States                 Cuba  \n",
       "income                        <=50K                <=50K  "
      ]
     },
     "execution_count": 5,
     "metadata": {},
     "output_type": "execute_result"
    }
   ],
   "source": [
    "import pandas as pd\n",
    "pd.DataFrame(ICP.take(5), columns=ICP.columns).transpose()"
   ]
  },
  {
   "cell_type": "code",
   "execution_count": 6,
   "metadata": {},
   "outputs": [
    {
     "name": "stdout",
     "output_type": "stream",
     "text": [
      "+---+------+------------+------------+-------------+--------------+------+\n",
      "|age|fnlwgt|capital-gain|capital-loss|education-num|hours-per-week|income|\n",
      "+---+------+------------+------------+-------------+--------------+------+\n",
      "| 39| 77516|        2174|           0|           13|            40| <=50K|\n",
      "| 50| 83311|           0|           0|           13|            13| <=50K|\n",
      "| 38|215646|           0|           0|            9|            40| <=50K|\n",
      "| 53|234721|           0|           0|            7|            40| <=50K|\n",
      "| 28|338409|           0|           0|           13|            40| <=50K|\n",
      "| 37|284582|           0|           0|           14|            40| <=50K|\n",
      "| 49|160187|           0|           0|            5|            16| <=50K|\n",
      "| 52|209642|           0|           0|            9|            45|  >50K|\n",
      "| 31| 45781|       14084|           0|           14|            50|  >50K|\n",
      "| 42|159449|        5178|           0|           13|            40|  >50K|\n",
      "| 37|280464|           0|           0|           10|            80|  >50K|\n",
      "| 30|141297|           0|           0|           13|            40|  >50K|\n",
      "| 23|122272|           0|           0|           13|            30| <=50K|\n",
      "| 32|205019|           0|           0|           12|            50| <=50K|\n",
      "| 40|121772|           0|           0|           11|            40|  >50K|\n",
      "| 34|245487|           0|           0|            4|            45| <=50K|\n",
      "| 25|176756|           0|           0|            9|            35| <=50K|\n",
      "| 32|186824|           0|           0|            9|            40| <=50K|\n",
      "| 38| 28887|           0|           0|            7|            50| <=50K|\n",
      "| 43|292175|           0|           0|           14|            45|  >50K|\n",
      "+---+------+------------+------------+-------------+--------------+------+\n",
      "only showing top 20 rows\n",
      "\n"
     ]
    }
   ],
   "source": [
    "ICP = ICP.select(\"age\",\"fnlwgt\",\"capital-gain\",\"capital-loss\",\"education-num\",\"hours-per-week\",\"income\")\n",
    "ICP.show()"
   ]
  },
  {
   "cell_type": "code",
   "execution_count": 7,
   "metadata": {},
   "outputs": [
    {
     "name": "stdout",
     "output_type": "stream",
     "text": [
      "The number of rows: \n"
     ]
    },
    {
     "data": {
      "text/plain": [
       "32561"
      ]
     },
     "execution_count": 7,
     "metadata": {},
     "output_type": "execute_result"
    }
   ],
   "source": [
    "print(\"The number of rows: \")\n",
    "ICP.count()"
   ]
  },
  {
   "cell_type": "code",
   "execution_count": 8,
   "metadata": {},
   "outputs": [],
   "source": [
    "from pyspark.ml.feature import StringIndexer\n",
    "indexer = StringIndexer(inputCol=\"income\", outputCol=\"label\") \n",
    "ICP7 = indexer.fit(ICP).transform(ICP) "
   ]
  },
  {
   "cell_type": "code",
   "execution_count": 9,
   "metadata": {},
   "outputs": [
    {
     "name": "stdout",
     "output_type": "stream",
     "text": [
      "+---+------+------------+------------+-------------+--------------+------+-----+\n",
      "|age|fnlwgt|capital-gain|capital-loss|education-num|hours-per-week|income|label|\n",
      "+---+------+------------+------------+-------------+--------------+------+-----+\n",
      "| 39| 77516|        2174|           0|           13|            40| <=50K|  0.0|\n",
      "| 50| 83311|           0|           0|           13|            13| <=50K|  0.0|\n",
      "| 38|215646|           0|           0|            9|            40| <=50K|  0.0|\n",
      "| 53|234721|           0|           0|            7|            40| <=50K|  0.0|\n",
      "| 28|338409|           0|           0|           13|            40| <=50K|  0.0|\n",
      "| 37|284582|           0|           0|           14|            40| <=50K|  0.0|\n",
      "| 49|160187|           0|           0|            5|            16| <=50K|  0.0|\n",
      "| 52|209642|           0|           0|            9|            45|  >50K|  1.0|\n",
      "| 31| 45781|       14084|           0|           14|            50|  >50K|  1.0|\n",
      "| 42|159449|        5178|           0|           13|            40|  >50K|  1.0|\n",
      "| 37|280464|           0|           0|           10|            80|  >50K|  1.0|\n",
      "| 30|141297|           0|           0|           13|            40|  >50K|  1.0|\n",
      "| 23|122272|           0|           0|           13|            30| <=50K|  0.0|\n",
      "| 32|205019|           0|           0|           12|            50| <=50K|  0.0|\n",
      "| 40|121772|           0|           0|           11|            40|  >50K|  1.0|\n",
      "| 34|245487|           0|           0|            4|            45| <=50K|  0.0|\n",
      "| 25|176756|           0|           0|            9|            35| <=50K|  0.0|\n",
      "| 32|186824|           0|           0|            9|            40| <=50K|  0.0|\n",
      "| 38| 28887|           0|           0|            7|            50| <=50K|  0.0|\n",
      "| 43|292175|           0|           0|           14|            45|  >50K|  1.0|\n",
      "+---+------+------------+------------+-------------+--------------+------+-----+\n",
      "only showing top 20 rows\n",
      "\n"
     ]
    }
   ],
   "source": [
    "ICP7.show()"
   ]
  },
  {
   "cell_type": "code",
   "execution_count": 10,
   "metadata": {},
   "outputs": [],
   "source": [
    "from pyspark.sql.types import *\n",
    "\n",
    "# Change column type\n",
    "ICP7 = ICP7.withColumn(\"age\", ICP7[\"age\"].cast(IntegerType()))\n",
    "ICP7 = ICP7.withColumn(\"fnlwgt\", ICP7[\"fnlwgt\"].cast(IntegerType()))\n",
    "ICP7 = ICP7.withColumn(\"capital-gain\", ICP7[\"capital-gain\"].cast(IntegerType()))\n",
    "ICP7 = ICP7.withColumn(\"capital-loss\", ICP7[\"capital-loss\"].cast(IntegerType()))\n",
    "ICP7 = ICP7.withColumn(\"education-num\", ICP7[\"education-num\"].cast(IntegerType()))\n",
    "ICP7 = ICP7.withColumn(\"hours-per-week\", ICP7[\"hours-per-week\"].cast(IntegerType()))"
   ]
  },
  {
   "cell_type": "code",
   "execution_count": 11,
   "metadata": {},
   "outputs": [],
   "source": [
    "# Create vector assembler for feature columns\n",
    "VAssembler = VectorAssembler(inputCols=ICP7.columns[:5], outputCol=\"features\")\n",
    "ICP7 = VAssembler.transform(ICP7)"
   ]
  },
  {
   "cell_type": "code",
   "execution_count": 12,
   "metadata": {},
   "outputs": [
    {
     "name": "stdout",
     "output_type": "stream",
     "text": [
      "+---+------+------------+------------+-------------+--------------+------+-----+--------------------+\n",
      "|age|fnlwgt|capital-gain|capital-loss|education-num|hours-per-week|income|label|            features|\n",
      "+---+------+------------+------------+-------------+--------------+------+-----+--------------------+\n",
      "| 39| 77516|        2174|           0|           13|            40| <=50K|  0.0|[39.0,77516.0,217...|\n",
      "| 50| 83311|           0|           0|           13|            13| <=50K|  0.0|[50.0,83311.0,0.0...|\n",
      "| 38|215646|           0|           0|            9|            40| <=50K|  0.0|[38.0,215646.0,0....|\n",
      "| 53|234721|           0|           0|            7|            40| <=50K|  0.0|[53.0,234721.0,0....|\n",
      "| 28|338409|           0|           0|           13|            40| <=50K|  0.0|[28.0,338409.0,0....|\n",
      "| 37|284582|           0|           0|           14|            40| <=50K|  0.0|[37.0,284582.0,0....|\n",
      "| 49|160187|           0|           0|            5|            16| <=50K|  0.0|[49.0,160187.0,0....|\n",
      "| 52|209642|           0|           0|            9|            45|  >50K|  1.0|[52.0,209642.0,0....|\n",
      "| 31| 45781|       14084|           0|           14|            50|  >50K|  1.0|[31.0,45781.0,140...|\n",
      "| 42|159449|        5178|           0|           13|            40|  >50K|  1.0|[42.0,159449.0,51...|\n",
      "| 37|280464|           0|           0|           10|            80|  >50K|  1.0|[37.0,280464.0,0....|\n",
      "| 30|141297|           0|           0|           13|            40|  >50K|  1.0|[30.0,141297.0,0....|\n",
      "| 23|122272|           0|           0|           13|            30| <=50K|  0.0|[23.0,122272.0,0....|\n",
      "| 32|205019|           0|           0|           12|            50| <=50K|  0.0|[32.0,205019.0,0....|\n",
      "| 40|121772|           0|           0|           11|            40|  >50K|  1.0|[40.0,121772.0,0....|\n",
      "| 34|245487|           0|           0|            4|            45| <=50K|  0.0|[34.0,245487.0,0....|\n",
      "| 25|176756|           0|           0|            9|            35| <=50K|  0.0|[25.0,176756.0,0....|\n",
      "| 32|186824|           0|           0|            9|            40| <=50K|  0.0|[32.0,186824.0,0....|\n",
      "| 38| 28887|           0|           0|            7|            50| <=50K|  0.0|[38.0,28887.0,0.0...|\n",
      "| 43|292175|           0|           0|           14|            45|  >50K|  1.0|[43.0,292175.0,0....|\n",
      "+---+------+------------+------------+-------------+--------------+------+-----+--------------------+\n",
      "only showing top 20 rows\n",
      "\n"
     ]
    }
   ],
   "source": [
    "ICP7.show()"
   ]
  },
  {
   "cell_type": "code",
   "execution_count": 13,
   "metadata": {},
   "outputs": [],
   "source": [
    "# Split the crime dataset into training and testing data sets\n",
    "ICPx = ICP7.select(\"label\", \"features\")\n",
    "# Split the crime dataset into training and testing data sets\n",
    "X_train, x_test = ICPx.randomSplit([0.7, 0.3])"
   ]
  },
  {
   "cell_type": "markdown",
   "metadata": {},
   "source": [
    "# Naïve Bayes"
   ]
  },
  {
   "cell_type": "code",
   "execution_count": 14,
   "metadata": {},
   "outputs": [],
   "source": [
    "from pyspark.ml.classification import NaiveBayes\n",
    "nb1 = NaiveBayes()\n",
    "\n",
    "# train the model\n",
    "model1 = nb1.fit(X_train)\n"
   ]
  },
  {
   "cell_type": "code",
   "execution_count": 15,
   "metadata": {},
   "outputs": [
    {
     "name": "stdout",
     "output_type": "stream",
     "text": [
      "+-----+--------------------+--------------------+--------------------+----------+\n",
      "|label|            features|       rawPrediction|         probability|prediction|\n",
      "+-----+--------------------+--------------------+--------------------+----------+\n",
      "|  0.0|[17.0,25690.0,0.0...|[-237.88849492312...|[1.0,2.8645132617...|       0.0|\n",
      "|  0.0|[17.0,27415.0,0.0...|[-249.98868674479...|[1.0,5.0306391904...|       0.0|\n",
      "|  0.0|[17.0,33138.0,0.0...|[-267.20281998699...|[1.0,1.7633499941...|       0.0|\n",
      "|  0.0|[17.0,34019.0,0.0...|[-248.54232636174...|[1.0,1.0012565829...|       0.0|\n",
      "|  0.0|[17.0,34019.0,0.0...|[-258.43602770056...|[1.0,1.2018448469...|       0.0|\n",
      "+-----+--------------------+--------------------+--------------------+----------+\n",
      "only showing top 5 rows\n",
      "\n"
     ]
    }
   ],
   "source": [
    "# select example rows to display.\n",
    "predictions = model1.transform(x_test)\n",
    "predictions.show(5)\n"
   ]
  },
  {
   "cell_type": "code",
   "execution_count": 16,
   "metadata": {},
   "outputs": [
    {
     "name": "stdout",
     "output_type": "stream",
     "text": [
      "Test set accuracy = 0.779803359278984\n"
     ]
    }
   ],
   "source": [
    "from pyspark.ml.evaluation import MulticlassClassificationEvaluator\n",
    "\n",
    "# compute accuracy on the test set\n",
    "evaluator = MulticlassClassificationEvaluator(labelCol=\"label\", predictionCol=\"prediction\",\n",
    "                                              metricName=\"accuracy\")\n",
    "accuracy = evaluator.evaluate(predictions)\n",
    "print(\"Test set accuracy = \" + str(accuracy))"
   ]
  },
  {
   "cell_type": "markdown",
   "metadata": {},
   "source": [
    "# Decision Tree"
   ]
  },
  {
   "cell_type": "code",
   "execution_count": 17,
   "metadata": {},
   "outputs": [],
   "source": [
    "from pyspark.ml.classification import DecisionTreeClassifier\n",
    "DecisionTreeModel = DecisionTreeClassifier()\n",
    "model = DecisionTreeModel.fit(x_test)"
   ]
  },
  {
   "cell_type": "code",
   "execution_count": 18,
   "metadata": {},
   "outputs": [],
   "source": [
    "# Generate prediction from test dataset\n",
    "ICP7DT = model.transform(x_test)"
   ]
  },
  {
   "cell_type": "code",
   "execution_count": 19,
   "metadata": {},
   "outputs": [
    {
     "name": "stdout",
     "output_type": "stream",
     "text": [
      "Accuracy: 0.7786364317424104\n"
     ]
    }
   ],
   "source": [
    "# Evuluate the accuracy of the model\n",
    "evaluator = MulticlassClassificationEvaluator()\n",
    "accuracy = evaluator.evaluate(ICP7DT)\n",
    "\n",
    "# Show model accuracy\n",
    "print(\"Accuracy:\", accuracy)"
   ]
  },
  {
   "cell_type": "markdown",
   "metadata": {},
   "source": [
    "# Random Forest"
   ]
  },
  {
   "cell_type": "code",
   "execution_count": 20,
   "metadata": {},
   "outputs": [],
   "source": [
    "from pyspark.ml.classification import RandomForestClassifier\n",
    "\n",
    "# Using the training set for the model traning\n",
    "RandomForestModel = RandomForestClassifier()\n",
    "model = RandomForestModel.fit(x_test)\n"
   ]
  },
  {
   "cell_type": "code",
   "execution_count": 21,
   "metadata": {},
   "outputs": [],
   "source": [
    "# Generate prediction from test dataset\n",
    "ICPRF = model.transform(x_test)"
   ]
  },
  {
   "cell_type": "code",
   "execution_count": 22,
   "metadata": {},
   "outputs": [
    {
     "name": "stdout",
     "output_type": "stream",
     "text": [
      "Accuracy: 0.7791593625700464\n"
     ]
    }
   ],
   "source": [
    "# Evuluate the accuracy of the model\n",
    "evaluator = MulticlassClassificationEvaluator()\n",
    "accuracy = evaluator.evaluate(ICPRF)\n",
    "\n",
    "# Show model accuracy\n",
    "print(\"Accuracy:\", accuracy)"
   ]
  },
  {
   "cell_type": "code",
   "execution_count": null,
   "metadata": {},
   "outputs": [],
   "source": []
  }
 ],
 "metadata": {
  "kernelspec": {
   "display_name": "Python 3",
   "language": "python",
   "name": "python3"
  },
  "language_info": {
   "codemirror_mode": {
    "name": "ipython",
    "version": 3
   },
   "file_extension": ".py",
   "mimetype": "text/x-python",
   "name": "python",
   "nbconvert_exporter": "python",
   "pygments_lexer": "ipython3",
   "version": "3.6.5"
  }
 },
 "nbformat": 4,
 "nbformat_minor": 2
}
